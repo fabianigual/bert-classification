{
 "cells": [
  {
   "cell_type": "markdown",
   "metadata": {},
   "source": [
    "# Clasificación de texto \n",
    "\n",
    "Clasificación de texto usando modelos BERT. Tomando los datos de https://www.datainnovacion.cl entrenaremos un modelo que clasifica si un proyecto es sostenible o no en función de el objetivo del proyecto. Además probaremos la nueva actualización de pytorch que da soporte al uso de gpu en Mac OS con chips M1. "
   ]
  },
  {
   "cell_type": "code",
   "execution_count": null,
   "metadata": {},
   "outputs": [],
   "source": [
    "#!pip install transformers\n",
    "#!pip install dataset\n",
    "\n",
    "import pandas as pd\n",
    "import numpy as np \n",
    "import torch\n",
    "import torch.nn as nn\n",
    "from sklearn import metrics, model_selection, preprocessing\n",
    "import platform; platform.mac_ver()\n",
    "from transformers import AutoTokenizer, AutoModelForSequenceClassification,BertForSequenceClassification, BertConfig, TrainingArguments, Trainer, get_scheduler,  DataCollatorWithPadding, get_linear_schedule_with_warmup\n",
    "from datasets import load_metric,  Dataset, DatasetDict, load_dataset\n",
    "import matplotlib.pyplot as plt\n",
    "import seaborn as sns\n",
    "import re"
   ]
  }
 ],
 "metadata": {
  "kernelspec": {
   "display_name": "Python 3.9.13 ('pytorch')",
   "language": "python",
   "name": "python3"
  },
  "language_info": {
   "name": "python",
   "version": "3.9.13"
  },
  "orig_nbformat": 4,
  "vscode": {
   "interpreter": {
    "hash": "071f83251836d5bb3918d2af6501aef1a588d685a567aa45f470f25864dd9495"
   }
  }
 },
 "nbformat": 4,
 "nbformat_minor": 2
}
